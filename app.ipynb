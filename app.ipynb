{
  "nbformat": 4,
  "nbformat_minor": 0,
  "metadata": {
    "colab": {
      "provenance": [],
      "gpuType": "T4",
      "authorship_tag": "ABX9TyNiwUuhJDjVcBDHVeR7YE1A",
      "include_colab_link": true
    },
    "kernelspec": {
      "name": "python3",
      "display_name": "Python 3"
    },
    "language_info": {
      "name": "python"
    },
    "accelerator": "GPU"
  },
  "cells": [
    {
      "cell_type": "markdown",
      "metadata": {
        "id": "view-in-github",
        "colab_type": "text"
      },
      "source": [
        "<a href=\"https://colab.research.google.com/github/Tecpandas/comicgenerator_AI/blob/main/app.ipynb\" target=\"_parent\"><img src=\"https://colab.research.google.com/assets/colab-badge.svg\" alt=\"Open In Colab\"/></a>"
      ]
    },
    {
      "cell_type": "code",
      "execution_count": 47,
      "metadata": {
        "id": "Lfi7dUt0Trn-"
      },
      "outputs": [],
      "source": [
        "!pip install -q streamlit diffusers transformers accelerate pillow pyngrok"
      ]
    },
    {
      "cell_type": "code",
      "source": [
        "import torch\n",
        "print(\"GPU Available:\", torch.cuda.is_available())\n"
      ],
      "metadata": {
        "colab": {
          "base_uri": "https://localhost:8080/"
        },
        "id": "4wtqsgHzVVNk",
        "outputId": "eb03f7db-c352-4972-b79b-6572bdcacfa4"
      },
      "execution_count": null,
      "outputs": [
        {
          "output_type": "stream",
          "name": "stdout",
          "text": [
            "GPU Available: True\n"
          ]
        }
      ]
    },
    {
      "cell_type": "code",
      "source": [],
      "metadata": {
        "id": "ari4hEhwVU9t"
      },
      "execution_count": 25,
      "outputs": []
    },
    {
      "cell_type": "code",
      "source": [
        "!pip install gTTS"
      ],
      "metadata": {
        "colab": {
          "base_uri": "https://localhost:8080/"
        },
        "id": "Y8e5N9ijgCYm",
        "outputId": "c0641e1c-cb34-477a-fcfe-ff41f57fc9d8"
      },
      "execution_count": 40,
      "outputs": [
        {
          "output_type": "stream",
          "name": "stdout",
          "text": [
            "Requirement already satisfied: gTTS in /usr/local/lib/python3.11/dist-packages (2.5.4)\n",
            "Requirement already satisfied: requests<3,>=2.27 in /usr/local/lib/python3.11/dist-packages (from gTTS) (2.32.3)\n",
            "Requirement already satisfied: click<8.2,>=7.1 in /usr/local/lib/python3.11/dist-packages (from gTTS) (8.1.8)\n",
            "Requirement already satisfied: charset-normalizer<4,>=2 in /usr/local/lib/python3.11/dist-packages (from requests<3,>=2.27->gTTS) (3.4.2)\n",
            "Requirement already satisfied: idna<4,>=2.5 in /usr/local/lib/python3.11/dist-packages (from requests<3,>=2.27->gTTS) (3.10)\n",
            "Requirement already satisfied: urllib3<3,>=1.21.1 in /usr/local/lib/python3.11/dist-packages (from requests<3,>=2.27->gTTS) (2.4.0)\n",
            "Requirement already satisfied: certifi>=2017.4.17 in /usr/local/lib/python3.11/dist-packages (from requests<3,>=2.27->gTTS) (2025.6.15)\n"
          ]
        }
      ]
    },
    {
      "cell_type": "code",
      "source": [
        "%%writefile app.py\n",
        "import streamlit as st\n",
        "from transformers import pipeline\n",
        "from diffusers import StableDiffusionPipeline\n",
        "from PIL import Image, ImageDraw, ImageFont\n",
        "import torch\n",
        "from gtts import gTTS\n",
        "from io import BytesIO\n",
        "\n",
        "# Load models with caching\n",
        "@st.cache_resource\n",
        "def load_caption_generator():\n",
        "    return pipeline(\"text2text-generation\", model=\"google/flan-t5-small\")\n",
        "\n",
        "@st.cache_resource\n",
        "def load_image_generator():\n",
        "    return StableDiffusionPipeline.from_pretrained(\n",
        "        \"runwayml/stable-diffusion-v1-5\",\n",
        "        torch_dtype=torch.float16\n",
        "    ).to(\"cuda\")\n",
        "\n",
        "caption_gen = load_caption_generator()\n",
        "image_pipe = load_image_generator()\n",
        "\n",
        "# Utilities\n",
        "def generate_caption(scene):\n",
        "    output = caption_gen(f\"Generate a comic panel caption: {scene}\", max_length=30)\n",
        "    return output[0]['generated_text']\n",
        "\n",
        "def generate_image(prompt, style):\n",
        "    style_map = {\n",
        "        \"Cartoon\": \"in a cartoon style\",\n",
        "        \"Comic\": \"in a Marvel comic style\",\n",
        "        \"Anime\": \"in an anime style\",\n",
        "        \"Default\": \"\"\n",
        "    }\n",
        "    full_prompt = f\"{prompt}, {style_map.get(style, '')}\"\n",
        "    result = image_pipe(prompt=full_prompt, guidance_scale=8.0, height=768, width=768)\n",
        "    return result.images[0]\n",
        "\n",
        "def add_caption_to_image(img, text):\n",
        "    draw = ImageDraw.Draw(img)\n",
        "    try:\n",
        "        font = ImageFont.truetype(\"DejaVuSans-Bold.ttf\", 28)\n",
        "    except:\n",
        "        font = ImageFont.load_default()\n",
        "\n",
        "    bbox = draw.textbbox((0, 0), text, font=font)\n",
        "    text_width = bbox[2] - bbox[0]\n",
        "    text_height = bbox[3] - bbox[1]\n",
        "    margin = 10\n",
        "    draw.rectangle([(0, 0), (img.width, text_height + 2 * margin)], fill=(0, 0, 0, 180))\n",
        "    draw.text((margin, margin), text, font=font, fill=\"white\")\n",
        "    return img\n",
        "\n",
        "def combine_panels_to_page(panels, panels_per_page=4):\n",
        "    pages = []\n",
        "    for i in range(0, len(panels), panels_per_page):\n",
        "        chunk = panels[i:i + panels_per_page]\n",
        "        width = sum(p.width for p in chunk)\n",
        "        height = max(p.height for p in chunk)\n",
        "        page = Image.new(\"RGB\", (width, height))\n",
        "        x_offset = 0\n",
        "        for p in chunk:\n",
        "            page.paste(p, (x_offset, 0))\n",
        "            x_offset += p.width\n",
        "        pages.append(page)\n",
        "    return pages\n",
        "\n",
        "def generate_voice(caption):\n",
        "    try:\n",
        "        tts = gTTS(text=caption)\n",
        "        mp3_fp = BytesIO()\n",
        "        tts.write_to_fp(mp3_fp)\n",
        "        mp3_fp.seek(0)\n",
        "        return mp3_fp.read()\n",
        "    except Exception:\n",
        "        return None\n",
        "\n",
        "# Dark Theme Styling\n",
        "st.set_page_config(page_title=\"AI Comic Generator\", layout=\"centered\")\n",
        "\n",
        "st.markdown(\"\"\"\n",
        "    <style>\n",
        "        body {\n",
        "            background-color: #121212;\n",
        "            color: white;\n",
        "        }\n",
        "        .stTextInput > div > div > input,\n",
        "        .stTextArea textarea,\n",
        "        .stSelectbox div[data-baseweb=\"select\"] {\n",
        "            background-color: #2b2b2b;\n",
        "            color: white;\n",
        "        }\n",
        "        .stButton > button {\n",
        "            background-color: #ff4b4b;\n",
        "            color: white;\n",
        "            border: none;\n",
        "            font-weight: bold;\n",
        "        }\n",
        "        .stButton > button:hover {\n",
        "            background-color: #ff6666;\n",
        "        }\n",
        "    </style>\n",
        "\"\"\", unsafe_allow_html=True)\n",
        "\n",
        "st.markdown(\"<h1 style='text-align: center; color: #FF4B4B;'>🎨 AI Comic Generator</h1>\", unsafe_allow_html=True)\n",
        "st.markdown(\"<p style='text-align: center; color: #cccccc;'>Turn your imagination into a comic strip with AI!</p>\", unsafe_allow_html=True)\n",
        "\n",
        "with st.expander(\"📖 Example Prompt\"):\n",
        "    st.code(\"\"\"\n",
        "A teenager is bitten by a radioactive spider in a school science lab.\n",
        "He wakes up with strange powers — sticking to walls and super strength.\n",
        "At first, he uses his powers to become famous and earn money.\n",
        "One night, he lets a criminal escape out of selfishness.\n",
        "Later, he discovers that same criminal has killed his Uncle Ben.\n",
        "The teen vows to fight crime, remembering his uncle’s words: \"With great power comes great responsibility.\"\n",
        "\"\"\")\n",
        "\n",
        "# Inputs\n",
        "story = st.text_area(\"✍️ Enter your story (one scene per sentence or line):\", height=200)\n",
        "style_select = st.selectbox(\"🎨 Choose a visual style:\", [\"Default\", \"Cartoon\", \"Comic\", \"Anime\"])\n",
        "generate = st.button(\"🚀 Generate Comic\", use_container_width=True)\n",
        "\n",
        "# Generation logic\n",
        "if generate:\n",
        "    st.subheader(\"📚 Comic Panels\")\n",
        "    scenes = [s.strip() for s in story.strip().split(\".\") if s.strip()]\n",
        "    comic_panels = []\n",
        "\n",
        "    for i, scene in enumerate(scenes):\n",
        "        with st.spinner(f\"🎬 Generating panel {i+1}...\"):\n",
        "            caption = generate_caption(scene)\n",
        "            image = generate_image(scene, style_select)\n",
        "            panel = add_caption_to_image(image, caption)\n",
        "            comic_panels.append((panel, caption))\n",
        "            st.image(panel, caption=f\"Panel {i+1}: {caption}\", use_column_width=True)\n",
        "\n",
        "            audio_data = generate_voice(caption)\n",
        "            if audio_data:\n",
        "                st.audio(audio_data, format='audio/mp3')\n",
        "\n",
        "    if len(comic_panels) > 0:\n",
        "        with st.spinner(\"🧩 Combining panels into comic pages...\"):\n",
        "            image_only_panels = [img for img, _ in comic_panels]\n",
        "            pages = combine_panels_to_page(image_only_panels)\n",
        "\n",
        "            for i, page in enumerate(pages):\n",
        "                page_path = f\"comic_page_{i+1}.png\"\n",
        "                page.save(page_path)\n",
        "                st.subheader(f\"🖼️ Comic Page {i+1}\")\n",
        "                st.image(page, use_column_width=True)\n",
        "                with open(page_path, \"rb\") as f:\n",
        "                    st.download_button(f\"📥 Download Page {i+1}\", f, file_name=page_path, mime=\"image/png\")\n"
      ],
      "metadata": {
        "colab": {
          "base_uri": "https://localhost:8080/"
        },
        "id": "qzLBYPXAUWGz",
        "outputId": "74d3fc02-4f83-4a87-85ae-01e33790df6b"
      },
      "execution_count": 48,
      "outputs": [
        {
          "output_type": "stream",
          "name": "stdout",
          "text": [
            "Overwriting app.py\n"
          ]
        }
      ]
    },
    {
      "cell_type": "code",
      "source": [
        "!streamlit run app.py & npx localtunnel --port 8501\n"
      ],
      "metadata": {
        "colab": {
          "base_uri": "https://localhost:8080/"
        },
        "id": "9QkQS1yOljKC",
        "outputId": "d0935876-3860-4a89-e83a-e6152b349a5d"
      },
      "execution_count": 45,
      "outputs": [
        {
          "output_type": "stream",
          "name": "stdout",
          "text": [
            "\n",
            "Collecting usage statistics. To deactivate, set browser.gatherUsageStats to false.\n",
            "\u001b[0m\n",
            "\u001b[0m\n",
            "\u001b[34m\u001b[1m  You can now view your Streamlit app in your browser.\u001b[0m\n",
            "\u001b[0m\n",
            "\u001b[34m  Local URL: \u001b[0m\u001b[1mhttp://localhost:8506\u001b[0m\n",
            "\u001b[34m  Network URL: \u001b[0m\u001b[1mhttp://172.28.0.12:8506\u001b[0m\n",
            "\u001b[34m  External URL: \u001b[0m\u001b[1mhttp://34.16.177.212:8506\u001b[0m\n",
            "\u001b[0m\n",
            "\u001b[1G\u001b[0K⠙\u001b[1G\u001b[0K⠹\u001b[1G\u001b[0K⠸\u001b[1G\u001b[0K⠼\u001b[1G\u001b[0K⠴\u001b[1G\u001b[0K⠦\u001b[1G\u001b[0K⠧\u001b[1G\u001b[0K⠇\u001b[1G\u001b[0K⠏\u001b[1G\u001b[0K⠋\u001b[1G\u001b[0K⠙\u001b[1G\u001b[0K⠹\u001b[1G\u001b[0K⠸\u001b[1G\u001b[0K⠼\u001b[1G\u001b[0K⠴\u001b[1G\u001b[0K⠦\u001b[1G\u001b[0K\u001b[1G\u001b[0JNeed to install the following packages:\n",
            "localtunnel@2.0.2\n",
            "Ok to proceed? (y) \u001b[20G\u001b[34m  Stopping...\u001b[0m\n",
            "^C\n"
          ]
        }
      ]
    },
    {
      "cell_type": "code",
      "source": [
        "!pip install -q pyngrok\n"
      ],
      "metadata": {
        "id": "_q47nW6fVyq-"
      },
      "execution_count": 28,
      "outputs": []
    },
    {
      "cell_type": "code",
      "source": [
        "!ngrok config add-authtoken 2zHE52ZCSZCsGLynNigAO07QzOa_4JWg8ETNCvrVteB54mzdR\n"
      ],
      "metadata": {
        "colab": {
          "base_uri": "https://localhost:8080/"
        },
        "id": "2WfI0mzSZlEI",
        "outputId": "720fb625-ff5a-450d-87ac-701f0397ce76"
      },
      "execution_count": 29,
      "outputs": [
        {
          "output_type": "stream",
          "name": "stdout",
          "text": [
            "Authtoken saved to configuration file: /root/.config/ngrok/ngrok.yml\n"
          ]
        }
      ]
    },
    {
      "cell_type": "code",
      "source": [
        "from pyngrok import ngrok\n",
        "import threading\n",
        "import os\n",
        "import time\n",
        "\n",
        "# Kill previous tunnels\n",
        "ngrok.kill()\n",
        "\n",
        "# Launch Streamlit in background\n",
        "def run():\n",
        "    os.system(\"streamlit run app.py\")\n",
        "\n",
        "thread = threading.Thread(target=run)\n",
        "thread.start()\n",
        "\n",
        "time.sleep(10)  # Wait for server to start\n",
        "\n",
        "# Setup ngrok\n",
        "ngrok.set_auth_token(\"2zHE52ZCSZCsGLynNigAO07QzOa_4JWg8ETNCvrVteB54mzdR\")\n",
        "public_url = ngrok.connect(8501)\n",
        "print(\"🔗 Your app is live at:\", public_url)\n"
      ],
      "metadata": {
        "colab": {
          "base_uri": "https://localhost:8080/"
        },
        "id": "wZq9pJFxVpXD",
        "outputId": "a54ae4a1-7c2c-42b0-bec6-35155cd0fe9b"
      },
      "execution_count": 49,
      "outputs": [
        {
          "output_type": "stream",
          "name": "stdout",
          "text": [
            "🔗 Your app is live at: NgrokTunnel: \"https://d658-34-16-177-212.ngrok-free.app\" -> \"http://localhost:8501\"\n"
          ]
        }
      ]
    }
  ]
}